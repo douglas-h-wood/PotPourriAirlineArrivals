{
 "cells": [
  {
   "cell_type": "markdown",
   "metadata": {},
   "source": [
    "# Assignment\n",
    "Predict how late flights will be. A flight only counts as late if it is more than 30 minutes late."
   ]
  },
  {
   "cell_type": "code",
   "execution_count": 1,
   "metadata": {},
   "outputs": [],
   "source": [
    "%matplotlib inline\n",
    "import numpy as np\n",
    "import pandas as pd\n",
    "import scipy\n",
    "import sklearn\n",
    "from sklearn import preprocessing\n",
    "from sklearn import linear_model\n",
    "pd.options.display.float_format = '{:.3f}'.format\n",
    "from sklearn.model_selection import cross_val_score\n",
    "# Suppress annoying harmless error.\n",
    "import warnings\n",
    "warnings.filterwarnings(action=\"ignore\", module=\"scipy\", message=\"^internal gelsd\")\n",
    "from sklearn import ensemble"
   ]
  },
  {
   "cell_type": "code",
   "execution_count": 2,
   "metadata": {},
   "outputs": [],
   "source": [
    "with open(\"Airlines2008short.csv\", 'w') as output_file: \n",
    "    with open(\"Airlines2008.csv\", 'r') as input_file: \n",
    "        line = input_file.readline() \n",
    "        counter = 0 \n",
    "        while line: \n",
    "            if counter % 20 == 0:  \n",
    "                output_file.write(line) \n",
    "            counter += 1 \n",
    "            line = input_file.readline() "
   ]
  },
  {
   "cell_type": "code",
   "execution_count": 3,
   "metadata": {},
   "outputs": [],
   "source": [
    "airlines2008=pd.read_csv('Airlines2008short.csv',usecols=lambda x:x in ['Month','DayOfWeek','CRSDepTime','ArrDelay'])"
   ]
  },
  {
   "cell_type": "code",
   "execution_count": 4,
   "metadata": {},
   "outputs": [
    {
     "data": {
      "text/html": [
       "<div>\n",
       "<style scoped>\n",
       "    .dataframe tbody tr th:only-of-type {\n",
       "        vertical-align: middle;\n",
       "    }\n",
       "\n",
       "    .dataframe tbody tr th {\n",
       "        vertical-align: top;\n",
       "    }\n",
       "\n",
       "    .dataframe thead th {\n",
       "        text-align: right;\n",
       "    }\n",
       "</style>\n",
       "<table border=\"1\" class=\"dataframe\">\n",
       "  <thead>\n",
       "    <tr style=\"text-align: right;\">\n",
       "      <th></th>\n",
       "      <th>Month</th>\n",
       "      <th>DayOfWeek</th>\n",
       "      <th>CRSDepTime</th>\n",
       "      <th>ArrDelay</th>\n",
       "    </tr>\n",
       "  </thead>\n",
       "  <tbody>\n",
       "    <tr>\n",
       "      <th>0</th>\n",
       "      <td>1</td>\n",
       "      <td>4</td>\n",
       "      <td>1325</td>\n",
       "      <td>37.000</td>\n",
       "    </tr>\n",
       "    <tr>\n",
       "      <th>1</th>\n",
       "      <td>1</td>\n",
       "      <td>4</td>\n",
       "      <td>1355</td>\n",
       "      <td>11.000</td>\n",
       "    </tr>\n",
       "    <tr>\n",
       "      <th>2</th>\n",
       "      <td>1</td>\n",
       "      <td>4</td>\n",
       "      <td>1535</td>\n",
       "      <td>-7.000</td>\n",
       "    </tr>\n",
       "    <tr>\n",
       "      <th>3</th>\n",
       "      <td>1</td>\n",
       "      <td>4</td>\n",
       "      <td>1445</td>\n",
       "      <td>43.000</td>\n",
       "    </tr>\n",
       "    <tr>\n",
       "      <th>4</th>\n",
       "      <td>1</td>\n",
       "      <td>4</td>\n",
       "      <td>1715</td>\n",
       "      <td>52.000</td>\n",
       "    </tr>\n",
       "  </tbody>\n",
       "</table>\n",
       "</div>"
      ],
      "text/plain": [
       "   Month  DayOfWeek  CRSDepTime  ArrDelay\n",
       "0      1          4        1325    37.000\n",
       "1      1          4        1355    11.000\n",
       "2      1          4        1535    -7.000\n",
       "3      1          4        1445    43.000\n",
       "4      1          4        1715    52.000"
      ]
     },
     "execution_count": 4,
     "metadata": {},
     "output_type": "execute_result"
    }
   ],
   "source": [
    "airlines2008.head()"
   ]
  },
  {
   "cell_type": "code",
   "execution_count": 5,
   "metadata": {},
   "outputs": [],
   "source": [
    "def process_frame(df):\n",
    "    is_morning=(df.loc[:,'CRSDepTime']>=700) & (df.loc[:,'CRSDepTime']<=900)\n",
    "    df['MorningDep']=is_morning\n",
    "    df['MorningDep']=df['MorningDep'].astype(int)\n",
    "    is_evening=(df.loc[:,'CRSDepTime']>=1700) & (df.loc[:,'CRSDepTime']<=1900)\n",
    "    df['EveningDep']=is_evening\n",
    "    df['EveningDep']=df['EveningDep'].astype(int)\n",
    "    df.dropna(inplace=True)\n",
    "    df['Net_Late']=df['ArrDelay']-30\n",
    "    df = pd.get_dummies(df,columns=['Month','DayOfWeek'])\n",
    "    return df"
   ]
  },
  {
   "cell_type": "code",
   "execution_count": 6,
   "metadata": {},
   "outputs": [],
   "source": [
    "new_df=process_frame(airlines2008)"
   ]
  },
  {
   "cell_type": "code",
   "execution_count": 7,
   "metadata": {},
   "outputs": [
    {
     "data": {
      "text/plain": [
       "(342542, 24)"
      ]
     },
     "execution_count": 7,
     "metadata": {},
     "output_type": "execute_result"
    }
   ],
   "source": [
    "new_df.shape"
   ]
  },
  {
   "cell_type": "code",
   "execution_count": 8,
   "metadata": {},
   "outputs": [],
   "source": [
    "training_set=new_df.iloc[::2,:].copy()"
   ]
  },
  {
   "cell_type": "code",
   "execution_count": 9,
   "metadata": {},
   "outputs": [],
   "source": [
    "test_set=new_df.iloc[1::2,:].copy()"
   ]
  },
  {
   "cell_type": "code",
   "execution_count": 10,
   "metadata": {},
   "outputs": [
    {
     "data": {
      "text/plain": [
       "Index(['CRSDepTime', 'ArrDelay', 'MorningDep', 'EveningDep', 'Net_Late',\n",
       "       'Month_1', 'Month_2', 'Month_3', 'Month_4', 'Month_5', 'Month_6',\n",
       "       'Month_7', 'Month_8', 'Month_9', 'Month_10', 'Month_11', 'Month_12',\n",
       "       'DayOfWeek_1', 'DayOfWeek_2', 'DayOfWeek_3', 'DayOfWeek_4',\n",
       "       'DayOfWeek_5', 'DayOfWeek_6', 'DayOfWeek_7'],\n",
       "      dtype='object')"
      ]
     },
     "execution_count": 10,
     "metadata": {},
     "output_type": "execute_result"
    }
   ],
   "source": [
    "new_df.columns"
   ]
  },
  {
   "cell_type": "code",
   "execution_count": 11,
   "metadata": {},
   "outputs": [],
   "source": [
    "air_training_features=training_set[['CRSDepTime', 'MorningDep', 'EveningDep',\n",
    "       'Month_1', 'Month_2', 'Month_3', 'Month_4', 'Month_5', 'Month_6',\n",
    "       'Month_7', 'Month_8', 'Month_9', 'Month_10', 'Month_11', 'Month_12',\n",
    "       'DayOfWeek_1', 'DayOfWeek_2', 'DayOfWeek_3', 'DayOfWeek_4',\n",
    "       'DayOfWeek_5', 'DayOfWeek_6', 'DayOfWeek_7']]"
   ]
  },
  {
   "cell_type": "code",
   "execution_count": 12,
   "metadata": {},
   "outputs": [],
   "source": [
    "air_training_target=training_set[['Net_Late']]"
   ]
  },
  {
   "cell_type": "code",
   "execution_count": 13,
   "metadata": {},
   "outputs": [],
   "source": [
    "air_test_features=test_set[['CRSDepTime', 'MorningDep', 'EveningDep',\n",
    "       'Month_1', 'Month_2', 'Month_3', 'Month_4', 'Month_5', 'Month_6',\n",
    "       'Month_7', 'Month_8', 'Month_9', 'Month_10', 'Month_11', 'Month_12',\n",
    "       'DayOfWeek_1', 'DayOfWeek_2', 'DayOfWeek_3', 'DayOfWeek_4',\n",
    "       'DayOfWeek_5', 'DayOfWeek_6', 'DayOfWeek_7']]"
   ]
  },
  {
   "cell_type": "code",
   "execution_count": 14,
   "metadata": {},
   "outputs": [],
   "source": [
    "air_test_target=test_set[['Net_Late']]"
   ]
  },
  {
   "cell_type": "code",
   "execution_count": 15,
   "metadata": {},
   "outputs": [
    {
     "name": "stdout",
     "output_type": "stream",
     "text": [
      "Coefficients: \n",
      " [[  8.26963848e-03  -1.62940136e+00   3.02064820e+00   1.72863187e+00\n",
      "    5.04501171e+00   3.39257099e+00  -1.36088976e+00  -2.32753808e+00\n",
      "    4.58202629e+00   1.43433708e+00  -9.74936866e-01  -7.39920177e+00\n",
      "   -7.70933901e+00  -5.44828546e+00   9.03761301e+00   6.65468141e-02\n",
      "   -5.93252814e-01  -1.28708341e+00   2.16688516e-01   2.81170392e+00\n",
      "   -2.09282098e+00   8.78217958e-01]]\n",
      "Intercept: \n",
      " [-33.1392222]\n",
      "R squared of model on training data: \n",
      " 0.0329061583735\n",
      "R squared of model on test data: \n",
      " 0.0306132770889\n"
     ]
    }
   ],
   "source": [
    "regr = linear_model.LinearRegression()\n",
    "\n",
    "# Fit our model to our training data.\n",
    "regr.fit(air_training_features,air_training_target)\n",
    "\n",
    "print('Coefficients: \\n', regr.coef_)\n",
    "print('Intercept: \\n', regr.intercept_)\n",
    "\n",
    "# Performance on the training data:\n",
    "print('R squared of model on training data: \\n',regr.score(air_training_features,air_training_target)) \n",
    "\n",
    "# Performance on the test data:\n",
    "print('R squared of model on test data: \\n',regr.score(air_test_features,air_test_target))"
   ]
  },
  {
   "cell_type": "code",
   "execution_count": 16,
   "metadata": {},
   "outputs": [
    {
     "name": "stdout",
     "output_type": "stream",
     "text": [
      "R squared of model on training data: \n",
      " 0.0634488751153\n",
      "R squared of model on test data: \n",
      " 0.0319003966567\n"
     ]
    }
   ],
   "source": [
    "regr = ensemble.RandomForestRegressor(n_estimators=20,max_depth=10)\n",
    "\n",
    "# Fit our model to our training data.\n",
    "regr.fit(air_training_features,air_training_target.values.ravel())\n",
    "\n",
    "\n",
    "# Performance on the training data:\n",
    "print('R squared of model on training data: \\n',regr.score(air_training_features,air_training_target)) \n",
    "\n",
    "# Performance on the test data:\n",
    "print('R squared of model on test data: \\n',regr.score(air_test_features,air_test_target))"
   ]
  },
  {
   "cell_type": "code",
   "execution_count": null,
   "metadata": {},
   "outputs": [],
   "source": []
  }
 ],
 "metadata": {
  "kernelspec": {
   "display_name": "Python 3",
   "language": "python",
   "name": "python3"
  },
  "language_info": {
   "codemirror_mode": {
    "name": "ipython",
    "version": 3
   },
   "file_extension": ".py",
   "mimetype": "text/x-python",
   "name": "python",
   "nbconvert_exporter": "python",
   "pygments_lexer": "ipython3",
   "version": "3.6.2"
  }
 },
 "nbformat": 4,
 "nbformat_minor": 2
}
